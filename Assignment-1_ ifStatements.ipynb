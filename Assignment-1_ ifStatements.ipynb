{
 "cells": [
  {
   "cell_type": "code",
   "execution_count": 12,
   "metadata": {},
   "outputs": [
    {
     "name": "stdout",
     "output_type": "stream",
     "text": [
      "Write your name : Ayşe\n",
      "Hello, Ayşe! See you later.\n"
     ]
    }
   ],
   "source": [
    "name = input(str(\"Write your name : \"))\n",
    "\n",
    "if name == \"Tuncay\":\n",
    "    print(\"Hello Tuncay! The password is : WQ12\")\n",
    "else:\n",
    "    print(f\"Hello, {name}! See you later.\")"
   ]
  }
 ],
 "metadata": {
  "kernelspec": {
   "display_name": "Python 3",
   "language": "python",
   "name": "python3"
  },
  "language_info": {
   "codemirror_mode": {
    "name": "ipython",
    "version": 3
   },
   "file_extension": ".py",
   "mimetype": "text/x-python",
   "name": "python",
   "nbconvert_exporter": "python",
   "pygments_lexer": "ipython3",
   "version": "3.7.6"
  }
 },
 "nbformat": 4,
 "nbformat_minor": 4
}
